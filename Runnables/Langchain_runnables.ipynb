{
  "nbformat": 4,
  "nbformat_minor": 0,
  "metadata": {
    "colab": {
      "provenance": []
    },
    "kernelspec": {
      "name": "python3",
      "display_name": "Python 3"
    },
    "language_info": {
      "name": "python"
    }
  },
  "cells": [
    {
      "cell_type": "code",
      "execution_count": 17,
      "metadata": {
        "id": "3uVQIei3h8fU"
      },
      "outputs": [],
      "source": [
        "import random\n",
        "class Naklillm:\n",
        "\n",
        "  def __init__(self):\n",
        "    print('LLM created')\n",
        "\n",
        "  def predict(self,prompt):\n",
        "\n",
        "    response_list=[\n",
        "        \"delhi is the capital of India\",\n",
        "        \"ipl is a cricket league\",\n",
        "        \"AI stands for Artificial Intelligence\"\n",
        "    ]\n",
        "\n",
        "    return {'response':random.choice(response_list)}"
      ]
    },
    {
      "cell_type": "code",
      "source": [
        "llm=Naklillm()"
      ],
      "metadata": {
        "colab": {
          "base_uri": "https://localhost:8080/"
        },
        "id": "EI0pBtAgicoX",
        "outputId": "96e83478-23d8-497d-e9e7-662604ccf449"
      },
      "execution_count": 18,
      "outputs": [
        {
          "output_type": "stream",
          "name": "stdout",
          "text": [
            "LLM created\n"
          ]
        }
      ]
    },
    {
      "cell_type": "code",
      "source": [
        "llm.predict('What is the capital of India')"
      ],
      "metadata": {
        "colab": {
          "base_uri": "https://localhost:8080/"
        },
        "id": "R90W5uhhifJK",
        "outputId": "418af1fc-5b2a-44fe-881d-627ce81273d1"
      },
      "execution_count": 19,
      "outputs": [
        {
          "output_type": "execute_result",
          "data": {
            "text/plain": [
              "{'response': 'delhi is the capital of India'}"
            ]
          },
          "metadata": {},
          "execution_count": 19
        }
      ]
    },
    {
      "cell_type": "code",
      "source": [
        "class Nakliprompttemplate:\n",
        "\n",
        "  def __init__(self,template,input_variables):\n",
        "    self.template=template\n",
        "    self.input_variables=input_variables\n",
        "\n",
        "  def format(self,input_dict):\n",
        "    return self.template.format(**input_dict) #unpack"
      ],
      "metadata": {
        "id": "oMjmD3KMioD3"
      },
      "execution_count": 20,
      "outputs": []
    },
    {
      "cell_type": "code",
      "source": [
        "template=Nakliprompttemplate(\n",
        "    template='write a {length} poem about {topic}',\n",
        "    input_variables=['length','topic']\n",
        ")"
      ],
      "metadata": {
        "id": "wva9B4Hli6rD"
      },
      "execution_count": 21,
      "outputs": []
    },
    {
      "cell_type": "code",
      "source": [
        "prompt=template.format({'length':'short','topic':'india'})"
      ],
      "metadata": {
        "id": "GcIb_GHyjEKK"
      },
      "execution_count": 25,
      "outputs": []
    },
    {
      "cell_type": "code",
      "source": [
        "llm=Naklillm()"
      ],
      "metadata": {
        "colab": {
          "base_uri": "https://localhost:8080/"
        },
        "id": "H7hdbgrljK_8",
        "outputId": "80ea7249-d9a5-400e-9237-cc6eb782075e"
      },
      "execution_count": 26,
      "outputs": [
        {
          "output_type": "stream",
          "name": "stdout",
          "text": [
            "LLM created\n"
          ]
        }
      ]
    },
    {
      "cell_type": "code",
      "source": [
        "llm.predict(prompt)"
      ],
      "metadata": {
        "colab": {
          "base_uri": "https://localhost:8080/"
        },
        "id": "1O6LcW3PjpFm",
        "outputId": "1e8f858a-90c0-4f1b-bcb2-e033d71a82ed"
      },
      "execution_count": 27,
      "outputs": [
        {
          "output_type": "execute_result",
          "data": {
            "text/plain": [
              "{'response': 'AI stands for Artificial Intelligence'}"
            ]
          },
          "metadata": {},
          "execution_count": 27
        }
      ]
    },
    {
      "cell_type": "code",
      "source": [
        "class Nakilillmchain:\n",
        "\n",
        "  def __init__(self,llm,prompt):\n",
        "    self.llm=llm\n",
        "    self.prompt=prompt\n",
        "\n",
        "  def run(self,input_dict):\n",
        "    final_prompt=self.prompt.format(input_dict)\n",
        "    result=self.llm.predict(prompt)\n",
        "\n",
        "    return result['response']"
      ],
      "metadata": {
        "id": "vsPsikU_jvQg"
      },
      "execution_count": 43,
      "outputs": []
    },
    {
      "cell_type": "code",
      "source": [
        "template=Nakliprompttemplate(\n",
        "    template='write a {length} poem about {topic}',\n",
        "    input_variables=['length','topic']\n",
        ")"
      ],
      "metadata": {
        "id": "MG9_67Ufkhii"
      },
      "execution_count": 44,
      "outputs": []
    },
    {
      "cell_type": "code",
      "source": [
        "llm=Naklillm()"
      ],
      "metadata": {
        "colab": {
          "base_uri": "https://localhost:8080/"
        },
        "id": "wd_KKXi4kjR5",
        "outputId": "10e74ef9-51e4-483b-cc42-dfb9431c61a0"
      },
      "execution_count": 45,
      "outputs": [
        {
          "output_type": "stream",
          "name": "stdout",
          "text": [
            "LLM created\n"
          ]
        }
      ]
    },
    {
      "cell_type": "code",
      "source": [
        "chain=Nakilillmchain(llm,template)"
      ],
      "metadata": {
        "id": "5KCMpTu7kkDC"
      },
      "execution_count": 46,
      "outputs": []
    },
    {
      "cell_type": "code",
      "source": [
        "chain.run({'length':'short','topic':'india'})"
      ],
      "metadata": {
        "colab": {
          "base_uri": "https://localhost:8080/",
          "height": 36
        },
        "id": "OewS_UtXkphB",
        "outputId": "37f8d877-b644-4d79-8cd0-8f14bf506a96"
      },
      "execution_count": 47,
      "outputs": [
        {
          "output_type": "execute_result",
          "data": {
            "text/plain": [
              "'delhi is the capital of India'"
            ],
            "application/vnd.google.colaboratory.intrinsic+json": {
              "type": "string"
            }
          },
          "metadata": {},
          "execution_count": 47
        }
      ]
    },
    {
      "cell_type": "code",
      "source": [],
      "metadata": {
        "id": "CnoWriUmlJO4"
      },
      "execution_count": null,
      "outputs": []
    }
  ]
}